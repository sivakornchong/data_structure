{
 "cells": [
  {
   "cell_type": "markdown",
   "id": "25cd86de-425d-41c2-98b5-43fa1ae728e1",
   "metadata": {},
   "source": [
    "## Stack"
   ]
  },
  {
   "cell_type": "code",
   "execution_count": 2,
   "id": "d2e89065-2427-4b7c-9c36-e36fb78fa093",
   "metadata": {},
   "outputs": [
    {
     "name": "stdout",
     "output_type": "stream",
     "text": [
      "['a', 'b']\n",
      "This is the stack after removal ['a']\n"
     ]
    }
   ],
   "source": [
    "# Just use a normal list, pop and append will handle the LIFO nature\n",
    "stack = []\n",
    "# To add new member to stack\n",
    "stack.append(\"a\")\n",
    "stack.append(\"b\")\n",
    "print(stack)\n",
    "\n",
    "# To remove item from the last one\n",
    "stack.pop()\n",
    "print(\"This is the stack after removal\", stack)\n"
   ]
  },
  {
   "cell_type": "code",
   "execution_count": 4,
   "id": "a1b88fb6-1f3a-45e1-a110-ba4ec528385b",
   "metadata": {},
   "outputs": [
    {
     "name": "stdout",
     "output_type": "stream",
     "text": [
      "Stack: ['a', 'b', 'c']\n"
     ]
    }
   ],
   "source": [
    "# Simple class implementation\n",
    "\n",
    "class Stack:\n",
    "    def __init__(self):\n",
    "        self.stack = []\n",
    "\n",
    "    def push(self, item):\n",
    "        self.stack.append(item)\n",
    "\n",
    "    def pop(self):\n",
    "        if len(self.stack) < 1:\n",
    "            return None\n",
    "        return self.stack.pop()\n",
    "\n",
    "    def size(self):\n",
    "        return len(self.stack)\n",
    "\n",
    "my_stack = Stack()\n",
    "my_stack.push('a')\n",
    "my_stack.push('b')\n",
    "my_stack.push('c')\n",
    "print(f'Stack: {my_stack.stack}')"
   ]
  },
  {
   "cell_type": "markdown",
   "id": "97105601-8755-4229-938f-a2230e1d6f0a",
   "metadata": {},
   "source": [
    "## Queue"
   ]
  },
  {
   "cell_type": "code",
   "execution_count": 6,
   "id": "daaec915-9bd4-48b5-bebf-b7392e4635b1",
   "metadata": {},
   "outputs": [
    {
     "name": "stdout",
     "output_type": "stream",
     "text": [
      "Initial queue\n",
      "['a', 'b', 'c']\n",
      "\n",
      "Elements dequeued from queue\n",
      "a\n",
      "b\n",
      "c\n",
      "\n",
      "Queue after removing elements\n",
      "[]\n"
     ]
    }
   ],
   "source": [
    "# Implementation of a queue can be done using list: FIFO\n",
    "# However, lists are quite slow for this purpose because \n",
    "# inserting or deleting an element at the beginning requires \n",
    "# shifting all of the other elements by one, requiring O(n) time.\n",
    "\n",
    "queue = []\n",
    "queue.append('a')\n",
    "queue.append('b')\n",
    "queue.append('c')\n",
    "print(\"Initial queue\")\n",
    "print(queue)\n",
    "print(\"\\nElements dequeued from queue\")\n",
    "print(queue.pop(0))\n",
    "print(queue.pop(0))\n",
    "print(queue.pop(0))\n",
    "print(\"\\nQueue after removing elements\")\n",
    "print(queue)"
   ]
  },
  {
   "cell_type": "markdown",
   "id": "7c63a292-00bc-4ed7-986d-03fab851fe2b",
   "metadata": {},
   "source": [
    "## Linked List"
   ]
  },
  {
   "cell_type": "code",
   "execution_count": 15,
   "id": "72cb0774-ea48-4c6a-8ee8-e94742bc066e",
   "metadata": {},
   "outputs": [
    {
     "name": "stdout",
     "output_type": "stream",
     "text": [
      "[123]\n",
      "[456]->\n",
      "First item in list 456\n",
      "Second item in list 123\n"
     ]
    }
   ],
   "source": [
    "class Node:\n",
    "    def __init__(self, item, link = None):\n",
    "        self.item = item\n",
    "        self.next = link\n",
    "    \n",
    "    def toString(self):\n",
    "        return \"[{}]\".format(self.item) + (\"->\" if self.next != None else \"\")\n",
    "\n",
    "head = Node(123)\n",
    "print(head.toString())\n",
    "\n",
    "head = Node(456, head)\n",
    "print(head.toString())\n",
    "\n",
    "print(\"First item in list\", head.item)\n",
    "print(\"Second item in list\", head.next.item)\n",
    "\n"
   ]
  },
  {
   "cell_type": "markdown",
   "id": "49e87089-8637-4d99-b0a9-83af4194006d",
   "metadata": {},
   "source": [
    "## Queue using Linked List\n",
    "O(1) dequeue and enqueue by maintaining two pointers: front, and rear. "
   ]
  },
  {
   "cell_type": "code",
   "execution_count": 16,
   "id": "088f3d4e-977d-4083-b57f-6ed030a57ed6",
   "metadata": {},
   "outputs": [
    {
     "name": "stdout",
     "output_type": "stream",
     "text": [
      "Queue Front : 40\n",
      "Queue Rear : 50\n"
     ]
    }
   ],
   "source": [
    "# A class to represent a queue\n",
    " \n",
    "# The queue, front stores the front node\n",
    "# of LL and rear stores the last node of LL\n",
    " \n",
    " \n",
    "class Queue:\n",
    " \n",
    "    def __init__(self):\n",
    "        self.front = self.rear = None\n",
    " \n",
    "    def isEmpty(self):\n",
    "        return self.front == None\n",
    " \n",
    "    # Method to add an item to the queue\n",
    "    def EnQueue(self, item):\n",
    "        temp = Node(item)\n",
    " \n",
    "        if self.rear == None:\n",
    "            self.front = self.rear = temp\n",
    "            return\n",
    "        self.rear.next = temp  # Add item to the queue\n",
    "        self.rear = temp  # Adjust the rear pointer to point to it\n",
    " \n",
    "    # Method to remove an item from queue\n",
    "    def DeQueue(self):\n",
    " \n",
    "        if self.isEmpty():\n",
    "            return\n",
    "        temp = self.front\n",
    "        self.front = temp.next  \n",
    "        # Change the front pointer to point to the next item instead.\n",
    " \n",
    "        if(self.front == None):\n",
    "            self.rear = None\n",
    " \n",
    " \n",
    "# Driver Code\n",
    "if __name__ == '__main__':\n",
    "    q = Queue()\n",
    "    q.EnQueue(10)\n",
    "    q.EnQueue(20)\n",
    "    q.DeQueue()\n",
    "    q.DeQueue()\n",
    "    q.EnQueue(30)\n",
    "    q.EnQueue(40)\n",
    "    q.EnQueue(50)\n",
    "    q.DeQueue()\n",
    "    print(\"Queue Front : \" + str(q.front.item if q.front != None else -1))\n",
    "    print(\"Queue Rear : \" + str(q.rear.item if q.rear != None else -1))"
   ]
  },
  {
   "cell_type": "code",
   "execution_count": null,
   "id": "b754916e-4ca7-476f-930e-25c54fb583c8",
   "metadata": {},
   "outputs": [],
   "source": []
  }
 ],
 "metadata": {
  "kernelspec": {
   "display_name": "Python 3 (ipykernel)",
   "language": "python",
   "name": "python3"
  },
  "language_info": {
   "codemirror_mode": {
    "name": "ipython",
    "version": 3
   },
   "file_extension": ".py",
   "mimetype": "text/x-python",
   "name": "python",
   "nbconvert_exporter": "python",
   "pygments_lexer": "ipython3",
   "version": "3.11.6"
  }
 },
 "nbformat": 4,
 "nbformat_minor": 5
}
