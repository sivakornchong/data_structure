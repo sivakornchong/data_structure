{
 "cells": [
  {
   "cell_type": "markdown",
   "id": "e1f0d3ea-7942-4673-bd3c-3e6c5f8baf18",
   "metadata": {},
   "source": [
    "## Dynamic Array"
   ]
  },
  {
   "cell_type": "code",
   "execution_count": 3,
   "id": "c5601bee-31c2-4feb-a65c-9a483bf1791a",
   "metadata": {},
   "outputs": [],
   "source": [
    "# Dynamic Array implementation\n",
    "# Note: Python lists are dynamic arrays by default,\n",
    "# but this is an example of what's going on under the hood.\n",
    "class DynamicArray:\n",
    "    \n",
    "    def __init__(self, capacity: int):\n",
    "        self.capacity = capacity\n",
    "        self.length = 0\n",
    "        self.arr = [0] * self.capacity\n",
    "\n",
    "    # Get value at i-th index\n",
    "    def get(self, i: int) -> int:\n",
    "        return self.arr[i]\n",
    "\n",
    "    # Set n at i-th index\n",
    "    def set(self, i: int, n: int) -> None:\n",
    "        self.arr[i] = n\n",
    "\n",
    "    # Insert n in the last position of the array\n",
    "    def pushback(self, n: int) -> None:\n",
    "        if self.length == self.capacity:\n",
    "            self.resize()\n",
    "            \n",
    "        # insert at next empty position\n",
    "        self.arr[self.length] = n\n",
    "        self.length += 1\n",
    "\n",
    "    # Remove the last element in the array\n",
    "    def popback(self) -> int:\n",
    "        if self.length > 0:\n",
    "            # soft delete the last element\n",
    "            self.length -= 1\n",
    "        # return the popped element\n",
    "        return self.arr[self.length]\n",
    "\n",
    "    def resize(self) -> None:\n",
    "        # Create new array of double capacity\n",
    "        self.capacity = 2 * self.capacity\n",
    "        new_arr = [0] * self.capacity \n",
    "        \n",
    "        # Copy elements to new_arr\n",
    "        for i in range(self.length):\n",
    "            new_arr[i] = self.arr[i]\n",
    "        self.arr = new_arr\n",
    "\n",
    "    def getSize(self) -> int:\n",
    "        return self.length\n",
    "    \n",
    "    def getCapacity(self) -> int:\n",
    "        return self.capacity"
   ]
  },
  {
   "cell_type": "markdown",
   "id": "25cd86de-425d-41c2-98b5-43fa1ae728e1",
   "metadata": {},
   "source": [
    "## Stack"
   ]
  },
  {
   "cell_type": "code",
   "execution_count": 4,
   "id": "d2e89065-2427-4b7c-9c36-e36fb78fa093",
   "metadata": {},
   "outputs": [
    {
     "name": "stdout",
     "output_type": "stream",
     "text": [
      "['a', 'b']\n",
      "This is the stack after removal ['a']\n"
     ]
    }
   ],
   "source": [
    "# Just use a normal list, pop and append will handle the LIFO nature\n",
    "stack = []\n",
    "# To add new member to stack\n",
    "stack.append(\"a\")\n",
    "stack.append(\"b\")\n",
    "print(stack)\n",
    "\n",
    "# To remove item from the last one\n",
    "stack.pop()\n",
    "print(\"This is the stack after removal\", stack)\n"
   ]
  },
  {
   "cell_type": "code",
   "execution_count": 5,
   "id": "a1b88fb6-1f3a-45e1-a110-ba4ec528385b",
   "metadata": {},
   "outputs": [
    {
     "name": "stdout",
     "output_type": "stream",
     "text": [
      "Stack: ['a', 'b', 'c']\n"
     ]
    }
   ],
   "source": [
    "# Simple class implementation\n",
    "\n",
    "class Stack:\n",
    "    def __init__(self):\n",
    "        self.stack = []\n",
    "\n",
    "    def push(self, item):\n",
    "        self.stack.append(item)\n",
    "\n",
    "    def pop(self):\n",
    "        if len(self.stack) < 1:\n",
    "            return None\n",
    "        return self.stack.pop()\n",
    "\n",
    "    def size(self):\n",
    "        return len(self.stack)\n",
    "\n",
    "my_stack = Stack()\n",
    "my_stack.push('a')\n",
    "my_stack.push('b')\n",
    "my_stack.push('c')\n",
    "print(f'Stack: {my_stack.stack}')"
   ]
  },
  {
   "cell_type": "markdown",
   "id": "97105601-8755-4229-938f-a2230e1d6f0a",
   "metadata": {},
   "source": [
    "## Queue"
   ]
  },
  {
   "cell_type": "code",
   "execution_count": 6,
   "id": "daaec915-9bd4-48b5-bebf-b7392e4635b1",
   "metadata": {},
   "outputs": [
    {
     "name": "stdout",
     "output_type": "stream",
     "text": [
      "Initial queue\n",
      "['a', 'b', 'c']\n",
      "\n",
      "Elements dequeued from queue\n",
      "a\n",
      "b\n",
      "c\n",
      "\n",
      "Queue after removing elements\n",
      "[]\n"
     ]
    }
   ],
   "source": [
    "# Implementation of a queue can be done using list: FIFO\n",
    "# However, lists are quite slow for this purpose because \n",
    "# inserting or deleting an element at the beginning requires \n",
    "# shifting all of the other elements by one, requiring O(n) time.\n",
    "\n",
    "queue = []\n",
    "queue.append('a')\n",
    "queue.append('b')\n",
    "queue.append('c')\n",
    "print(\"Initial queue\")\n",
    "print(queue)\n",
    "print(\"\\nElements dequeued from queue\")\n",
    "print(queue.pop(0))\n",
    "print(queue.pop(0))\n",
    "print(queue.pop(0))\n",
    "print(\"\\nQueue after removing elements\")\n",
    "print(queue)"
   ]
  },
  {
   "cell_type": "markdown",
   "id": "7c63a292-00bc-4ed7-986d-03fab851fe2b",
   "metadata": {},
   "source": [
    "## Linked List"
   ]
  },
  {
   "cell_type": "code",
   "execution_count": 7,
   "id": "72cb0774-ea48-4c6a-8ee8-e94742bc066e",
   "metadata": {},
   "outputs": [
    {
     "name": "stdout",
     "output_type": "stream",
     "text": [
      "[123]\n",
      "[456]->\n",
      "First item in list 456\n",
      "Second item in list 123\n"
     ]
    }
   ],
   "source": [
    "## A single node\n",
    "\n",
    "class Node:\n",
    "    def __init__(self, item, link = None):\n",
    "        self.item = item\n",
    "        self.next = link\n",
    "    \n",
    "    def toString(self):\n",
    "        return \"[{}]\".format(self.item) + (\"->\" if self.next != None else \"\")\n",
    "\n",
    "head = Node(123)\n",
    "print(head.toString())\n",
    "\n",
    "head = Node(456, head)\n",
    "print(head.toString())\n",
    "\n",
    "print(\"First item in list\", head.item)\n",
    "print(\"Second item in list\", head.next.item)\n",
    "\n"
   ]
  },
  {
   "cell_type": "code",
   "execution_count": 9,
   "id": "964d4f73-5d7b-4c43-8b75-40b7cf2ce79f",
   "metadata": {},
   "outputs": [],
   "source": [
    "class LinkedList:\n",
    "    def __init__(self):\n",
    "        self.head = Node(-1)  # Use a node  to initialize the linkedlist\n",
    "        self.tail = self.head\n",
    "\n",
    "    \n",
    "    def get(self, index: int) -> int:\n",
    "        cursor = self.head.next\n",
    "        i = 0\n",
    "        while cursor:\n",
    "            if i == index:\n",
    "                return cursor.item\n",
    "            i+=1\n",
    "            cursor = cursor.next\n",
    "        return -1\n",
    "\n",
    "    def insertHead(self, val: int) -> None:\n",
    "        newnode = Node(val)\n",
    "        newnode.next = self.head.next\n",
    "        self.head.next = newnode\n",
    "        if not newnode.next:\n",
    "            self.tail = newnode\n",
    "\n",
    "    def insertTail(self, val: int) -> None:\n",
    "        newnode = Node(val)\n",
    "        self.tail.next = newnode\n",
    "        self.tail = newnode\n",
    "\n",
    "    def remove(self, index: int) -> bool:\n",
    "\n",
    "        cursor = self.head\n",
    "        i = 0\n",
    "        while i < index and cursor:\n",
    "            i += 1\n",
    "            cursor = cursor.next\n",
    "\n",
    "        if cursor and cursor.next:\n",
    "            if cursor.next == self.tail:\n",
    "                self.tail = cursor\n",
    "            cursor.next = cursor.next.next\n",
    "            return True\n",
    "        return False\n",
    "\n",
    "\n",
    "    def getValues(self) -> list[int]:\n",
    "        arr = []\n",
    "        cursor = self.head.next\n",
    "        while cursor != None:\n",
    "            arr.append(cursor.item)\n",
    "            cursor = cursor.next\n",
    "        return arr\n"
   ]
  },
  {
   "cell_type": "markdown",
   "id": "49e87089-8637-4d99-b0a9-83af4194006d",
   "metadata": {},
   "source": [
    "## Queue using Linked List\n",
    "O(1) dequeue and enqueue by maintaining two pointers: front, and rear. "
   ]
  },
  {
   "cell_type": "code",
   "execution_count": 12,
   "id": "088f3d4e-977d-4083-b57f-6ed030a57ed6",
   "metadata": {},
   "outputs": [
    {
     "name": "stdout",
     "output_type": "stream",
     "text": [
      "Queue Front : 40\n",
      "Queue Rear : 50\n"
     ]
    }
   ],
   "source": [
    "# A class to represent a queue\n",
    " \n",
    "# The queue, front stores the front node\n",
    "# of LL and rear stores the last node of LL\n",
    " \n",
    " \n",
    "class Queue:\n",
    " \n",
    "    def __init__(self):\n",
    "        self.front = self.rear = None\n",
    " \n",
    "    def isEmpty(self):\n",
    "        return self.front == None\n",
    " \n",
    "    # Method to add an item to the queue\n",
    "    def EnQueue(self, item):\n",
    "        temp = Node(item)\n",
    " \n",
    "        if self.rear == None:\n",
    "            self.front = self.rear = temp\n",
    "            return\n",
    "        self.rear.next = temp  # Add item to the queue\n",
    "        self.rear = temp  # Adjust the rear pointer to point to it\n",
    " \n",
    "    # Method to remove an item from queue\n",
    "    def DeQueue(self):\n",
    " \n",
    "        if self.isEmpty():\n",
    "            return\n",
    "        temp = self.front\n",
    "        self.front = temp.next  \n",
    "        # Change the front pointer to point to the next item instead.\n",
    " \n",
    "        if(self.front == None):\n",
    "            self.rear = None\n",
    " \n",
    " \n",
    "# Driver Code\n",
    "if __name__ == '__main__':\n",
    "    q = Queue()\n",
    "    q.EnQueue(10)\n",
    "    q.EnQueue(20)\n",
    "    q.DeQueue()\n",
    "    q.DeQueue()\n",
    "    q.EnQueue(30)\n",
    "    q.EnQueue(40)\n",
    "    q.EnQueue(50)\n",
    "    q.DeQueue()\n",
    "    print(\"Queue Front : \" + str(q.front.item if q.front != None else -1))\n",
    "    print(\"Queue Rear : \" + str(q.rear.item if q.rear != None else -1))"
   ]
  },
  {
   "cell_type": "markdown",
   "id": "39e4f105",
   "metadata": {},
   "source": [
    "## Binary Search Tree"
   ]
  },
  {
   "cell_type": "markdown",
   "id": "52e1f5e1",
   "metadata": {},
   "source": [
    "1. There are many traverse methods:\n",
    "- pre-order = depth first search -> breadth first search -> can be implemented using recursion/ stack\n",
    "- in-order ->  this will put binary search tree in the right order! \n",
    "- post-order -> kinda useless\n",
    "- level-order = breadth first search -> can be implemented using recursion/ queue\n"
   ]
  },
  {
   "cell_type": "code",
   "execution_count": 15,
   "id": "d3d8f773",
   "metadata": {},
   "outputs": [],
   "source": [
    "# Start an example tree\n",
    "class TreeNode:\n",
    "    def __init__(self, key):\n",
    "        self.left = None\n",
    "        self.right = None\n",
    "        self.val = key\n",
    "\n",
    "class BinarySearchTree:\n",
    "    def __init__(self):\n",
    "        self.root = None\n",
    "\n",
    "    def insert(self, key):\n",
    "        if self.root is None:\n",
    "            self.root = TreeNode(key)\n",
    "        else:\n",
    "            self._insert(self.root, key)\n",
    "\n",
    "    def _insert(self, root, key):\n",
    "        if key < root.val:\n",
    "            if root.left is None:\n",
    "                root.left = TreeNode(key)\n",
    "            else:\n",
    "                self._insert(root.left, key)\n",
    "        else:\n",
    "            if root.right is None:\n",
    "                root.right = TreeNode(key)\n",
    "            else:\n",
    "                self._insert(root.right, key)\n"
   ]
  },
  {
   "cell_type": "code",
   "execution_count": 16,
   "id": "b754916e-4ca7-476f-930e-25c54fb583c8",
   "metadata": {},
   "outputs": [],
   "source": [
    "# Example usage:\n",
    "bst = BinarySearchTree()\n",
    "nodes = [50, 30, 20, 40, 70, 60, 80]\n",
    "\n",
    "# Insert nodes into the BST\n",
    "for node in nodes:\n",
    "    bst.insert(node)"
   ]
  },
  {
   "cell_type": "markdown",
   "id": "384c0eca",
   "metadata": {},
   "source": [
    "Given root, search for the node when provided a value"
   ]
  },
  {
   "cell_type": "code",
   "execution_count": 50,
   "id": "c2808158",
   "metadata": {},
   "outputs": [
    {
     "data": {
      "text/plain": [
       "<__main__.TreeNode at 0x1726ff49810>"
      ]
     },
     "execution_count": 50,
     "metadata": {},
     "output_type": "execute_result"
    }
   ],
   "source": [
    "root = bst.root\n",
    "\n",
    "def search(root, key):\n",
    "    if not root:\n",
    "        return None\n",
    "    if root.val == key:\n",
    "        return root\n",
    "    elif key<root.val:\n",
    "        return search(root.left, key)\n",
    "    else:\n",
    "        return search(root.right, key)\n",
    "\n",
    "ret = search(root, 30)\n",
    "ret"
   ]
  },
  {
   "cell_type": "code",
   "execution_count": 52,
   "id": "854fa2cc",
   "metadata": {},
   "outputs": [
    {
     "data": {
      "text/plain": [
       "<__main__.TreeNode at 0x1726ff49810>"
      ]
     },
     "execution_count": 52,
     "metadata": {},
     "output_type": "execute_result"
    }
   ],
   "source": [
    "# Depth first search using stack\n",
    "def df_search(root, key):\n",
    "    if not root:\n",
    "        return None\n",
    "    stack = [root]\n",
    "\n",
    "    while len(stack)>0:\n",
    "        curr = stack.pop()\n",
    "\n",
    "        if curr.val == key:\n",
    "            return curr\n",
    "        \n",
    "        if curr.right: \n",
    "            stack.append(curr.right) \n",
    "        if curr.left:\n",
    "            stack.append(curr.left)\n",
    "        \n",
    "    return None  # Return None if key not found\n",
    "\n",
    "ret = search(root, 30)\n",
    "ret"
   ]
  },
  {
   "cell_type": "code",
   "execution_count": 53,
   "id": "67a3b246",
   "metadata": {},
   "outputs": [
    {
     "data": {
      "text/plain": [
       "<__main__.TreeNode at 0x1726ff49810>"
      ]
     },
     "execution_count": 53,
     "metadata": {},
     "output_type": "execute_result"
    }
   ],
   "source": [
    "# Breadth first search using queue\n",
    "def bf_search(root,key):\n",
    "    if not root:\n",
    "        return None\n",
    "    \n",
    "    queue = [root]\n",
    "    while len(queue)>0:\n",
    "        curr = queue.pop(0)\n",
    "        if curr.val == key:\n",
    "            return curr\n",
    "        if curr.left:\n",
    "            queue.append(curr.left)\n",
    "        if curr.right:\n",
    "            queue.append(curr.right)\n",
    "\n",
    "    return None\n",
    "\n",
    "ret = search(root, 30)\n",
    "ret"
   ]
  },
  {
   "cell_type": "code",
   "execution_count": 65,
   "id": "c245a393",
   "metadata": {},
   "outputs": [
    {
     "data": {
      "text/plain": [
       "<__main__.TreeNode at 0x1726ff49810>"
      ]
     },
     "execution_count": 65,
     "metadata": {},
     "output_type": "execute_result"
    }
   ],
   "source": [
    "# Breadth first search using dequeue (Popping from both front and back is O(1))\n",
    "from collections import deque\n",
    "\n",
    "def bf_search(root,key):\n",
    "    if not root:\n",
    "        return None\n",
    "    \n",
    "    queue = deque([root])\n",
    "    while len(queue)>0:\n",
    "        curr = queue.popleft()\n",
    "        if curr.val == key:\n",
    "            return curr\n",
    "        if curr.left:\n",
    "            queue.append(curr.left)\n",
    "        if curr.right:\n",
    "            queue.append(curr.right)\n",
    "\n",
    "    return None\n",
    "\n",
    "ret = search(root, 30)\n",
    "ret"
   ]
  },
  {
   "cell_type": "markdown",
   "id": "92688769",
   "metadata": {},
   "source": [
    "## Traversal methods"
   ]
  },
  {
   "cell_type": "code",
   "execution_count": 55,
   "id": "802728ab",
   "metadata": {},
   "outputs": [
    {
     "name": "stdout",
     "output_type": "stream",
     "text": [
      "50\n",
      "30\n",
      "20\n",
      "40\n",
      "70\n",
      "60\n",
      "80\n"
     ]
    }
   ],
   "source": [
    "## Pre-order traversal -> This is similar to DFS\n",
    "def preorder_traverse(root):\n",
    "    if not root:\n",
    "        return None\n",
    "    print(root.val)\n",
    "    preorder_traverse(root.left)\n",
    "    preorder_traverse(root.right)\n",
    "\n",
    "preorder_traverse(root)"
   ]
  },
  {
   "cell_type": "code",
   "execution_count": 58,
   "id": "4d19eed4",
   "metadata": {},
   "outputs": [
    {
     "name": "stdout",
     "output_type": "stream",
     "text": [
      "20\n",
      "30\n",
      "40\n",
      "50\n",
      "60\n",
      "70\n",
      "80\n"
     ]
    }
   ],
   "source": [
    "## Trick to getting the right order from binary search tree\n",
    "def inorder_traverse(root):\n",
    "    if not root:\n",
    "        return None\n",
    "    inorder_traverse(root.left)\n",
    "    print(root.val)\n",
    "    inorder_traverse(root.right)\n",
    "\n",
    "inorder_traverse(root)"
   ]
  },
  {
   "cell_type": "code",
   "execution_count": 62,
   "id": "80503f05",
   "metadata": {},
   "outputs": [
    {
     "name": "stdout",
     "output_type": "stream",
     "text": [
      "20\n",
      "40\n",
      "30\n",
      "60\n",
      "80\n",
      "70\n",
      "50\n"
     ]
    }
   ],
   "source": [
    "## post-order traversal\n",
    "def postorder_traverse(root):\n",
    "    if not root:\n",
    "        return None\n",
    "    postorder_traverse(root.left)\n",
    "    postorder_traverse(root.right)\n",
    "    print(root.val)\n",
    "\n",
    "postorder_traverse(root)"
   ]
  },
  {
   "cell_type": "code",
   "execution_count": 66,
   "id": "6c0e76cf",
   "metadata": {},
   "outputs": [
    {
     "name": "stdout",
     "output_type": "stream",
     "text": [
      "50\n",
      "30\n",
      "70\n",
      "20\n",
      "40\n",
      "60\n",
      "80\n"
     ]
    }
   ],
   "source": [
    "## level-order traversal -> This is similar to BFS -> just use queue\n",
    "from collections import deque\n",
    "\n",
    "def level_traverse(root):\n",
    "    if not root:\n",
    "        return None\n",
    "    \n",
    "    queue = deque([root])\n",
    "    while len(queue)>0:\n",
    "        curr = queue.popleft()\n",
    "        print(curr.val)\n",
    "        if curr.left:\n",
    "            queue.append(curr.left)\n",
    "        if curr.right:\n",
    "            queue.append(curr.right)\n",
    "\n",
    "    return None\n",
    "\n",
    "level_traverse(root)"
   ]
  },
  {
   "cell_type": "markdown",
   "id": "751b80b6",
   "metadata": {},
   "source": [
    "You can use these traverse methods -> replace the print functions to do anything~"
   ]
  },
  {
   "cell_type": "code",
   "execution_count": 68,
   "id": "cb5d3b70",
   "metadata": {},
   "outputs": [
    {
     "data": {
      "text/plain": [
       "[50, 70, 80]"
      ]
     },
     "execution_count": 68,
     "metadata": {},
     "output_type": "execute_result"
    }
   ],
   "source": [
    "### Print out the right most item\n",
    "def ret_rightmost(root):\n",
    "    if not root:\n",
    "        return None\n",
    "    \n",
    "    queue = deque([root])\n",
    "    ret = []\n",
    "    while len(queue)>0:\n",
    "        rightmost = None\n",
    "        for i in range(len(queue)):\n",
    "            curr = queue.popleft()\n",
    "            rightmost = curr\n",
    "            if curr.left:\n",
    "                queue.append(curr.left)\n",
    "            if curr.right:\n",
    "                queue.append(curr.right)\n",
    "\n",
    "        ret.append(rightmost.val)\n",
    "    return ret \n",
    "\n",
    "ret_rightmost(root)"
   ]
  },
  {
   "cell_type": "code",
   "execution_count": 70,
   "id": "889f2a9f",
   "metadata": {},
   "outputs": [
    {
     "data": {
      "text/plain": [
       "[50, 30, 20]"
      ]
     },
     "execution_count": 70,
     "metadata": {},
     "output_type": "execute_result"
    }
   ],
   "source": [
    "### Return left most item\n",
    "def ret_leftmost(root):\n",
    "    if not root:\n",
    "        return None\n",
    "    \n",
    "    queue = deque([root])\n",
    "    ret = []\n",
    "    while len(queue)>0:\n",
    "        leftmost = None\n",
    "        for i in range(len(queue)):\n",
    "            curr = queue.popleft()\n",
    "            if i == 0:\n",
    "                leftmost = curr\n",
    "            if curr.left:\n",
    "                queue.append(curr.left)\n",
    "            if curr.right:\n",
    "                queue.append(curr.right)\n",
    "\n",
    "        ret.append(leftmost.val)\n",
    "    return ret \n",
    "\n",
    "ret_leftmost(root)"
   ]
  },
  {
   "cell_type": "code",
   "execution_count": 73,
   "id": "48c659fb",
   "metadata": {},
   "outputs": [
    {
     "name": "stdout",
     "output_type": "stream",
     "text": [
      "3\n",
      "3\n"
     ]
    }
   ],
   "source": [
    "## Leetcode questions for finding the depth -> use breadth first search\n",
    "\n",
    "def max_depth(root):\n",
    "    if not root:\n",
    "        return 0\n",
    "    \n",
    "    queue = deque([root])\n",
    "    ret = 0\n",
    "    while len(queue)>0:\n",
    "        for i in range(len(queue)):\n",
    "            curr = queue.popleft()\n",
    "            if curr.left:\n",
    "                queue.append(curr.left)\n",
    "            if curr.right:\n",
    "                queue.append(curr.right)\n",
    "        ret += 1\n",
    "    return ret \n",
    "\n",
    "print(max_depth(root))\n",
    "\n",
    "# Let us find depth using recursive method\n",
    "def max_depth_r(root):\n",
    "    if not root:\n",
    "        return 0\n",
    "    return 1+max(max_depth_r(root.left), max_depth_r(root.right))\n",
    "\n",
    "print(max_depth_r(root))"
   ]
  },
  {
   "cell_type": "code",
   "execution_count": 78,
   "id": "f97512dc",
   "metadata": {},
   "outputs": [],
   "source": [
    "# Example usage:\n",
    "bst2 = BinarySearchTree()\n",
    "nodes = [50, 30, 20, 40, 70, 60, 80]\n",
    "\n",
    "# Insert nodes into the BST\n",
    "for node in nodes:\n",
    "    bst2.insert(node)\n",
    "\n",
    "root2 = bst2.root\n",
    "\n",
    "bst3 = BinarySearchTree()\n",
    "nodes = [50, 30, 20, 70, 60, 80]\n",
    "\n",
    "# Insert nodes into the BST\n",
    "for node in nodes:\n",
    "    bst3.insert(node)\n",
    "\n",
    "root3 = bst3.root"
   ]
  },
  {
   "cell_type": "code",
   "execution_count": 81,
   "id": "cb1204ed",
   "metadata": {},
   "outputs": [
    {
     "name": "stdout",
     "output_type": "stream",
     "text": [
      "Should be TRUE: True\n",
      "Should be FALSE: False\n"
     ]
    }
   ],
   "source": [
    "## Comparing two trees -> trees have same values?\n",
    "\n",
    "def tree_compare(root, root2):\n",
    "    if root == None and root2 == None:  # Base case\n",
    "        return True\n",
    "    if (root and root2) and root.val == root2.val:\n",
    "        return tree_compare(root.left, root2.left) and tree_compare(root.right, root2.right)\n",
    "    else:\n",
    "        return False\n",
    "\n",
    "print(\"Should be TRUE:\", tree_compare(root, root2))\n",
    "print(\"Should be FALSE:\", tree_compare(root, root3))"
   ]
  },
  {
   "cell_type": "code",
   "execution_count": 85,
   "id": "6297d7b7",
   "metadata": {},
   "outputs": [
    {
     "data": {
      "text/plain": [
       "3"
      ]
     },
     "execution_count": 85,
     "metadata": {},
     "output_type": "execute_result"
    }
   ],
   "source": [
    "# Passing other parameters in the recursion: Finding good nodes\n",
    "# Within a binary tree, a node x is considered good if the path from the root of the tree to the node x \n",
    "# contains no nodes with a value greater than the value of node x\n",
    "# Given the root of a binary tree root, return the number of good nodes within the tree.\n",
    "\n",
    "def goodNodes(root: TreeNode):\n",
    "        # We will use depth first search/ preorder traversal\n",
    "        # For each value popped from the stack, compare to those left in the stack\n",
    "        def dfs(node,maxval):\n",
    "            if not node:\n",
    "                return 0\n",
    "            \n",
    "            res = 1 if node.val >= maxval else 0\n",
    "            maxval = max(maxval, node.val)\n",
    "            res += dfs(node.left, maxval)\n",
    "            res += dfs(node.right, maxval)\n",
    "            return res\n",
    "        return dfs(root, root.val)\n",
    "\n",
    "goodNodes(root)"
   ]
  },
  {
   "cell_type": "markdown",
   "id": "8ac70561",
   "metadata": {},
   "source": [
    "### Heap and Priority Queue"
   ]
  },
  {
   "cell_type": "code",
   "execution_count": 4,
   "id": "cdb9d510",
   "metadata": {},
   "outputs": [],
   "source": [
    "import heapq\n",
    "def __init__(self, k: int, nums: list[int]):\n",
    "    # Create a min heap of length k\n",
    "    self.heap, self.k = nums, k\n",
    "    heapq.heapify(self.heap)\n",
    "    n = len(nums)\n",
    "    while n>k:\n",
    "        heapq.heappop(self.heap)\n",
    "        n-=1\n",
    "\n",
    "def add(self, val: int) -> int:\n",
    "    heapq.heappush(self.heap, val)\n",
    "    if len(list(self.heap))>self.k:\n",
    "        heapq.heappop(self.heap)\n",
    "    return self.heap[0]"
   ]
  },
  {
   "cell_type": "markdown",
   "id": "1eb8d9d3",
   "metadata": {},
   "source": [
    "Note: The heapify() on tuples considers the first element in the tuple for the process. Thus, by default, the dictionaries are maintained in heap, based on the key only."
   ]
  },
  {
   "cell_type": "code",
   "execution_count": 6,
   "id": "f9e7d9f7",
   "metadata": {},
   "outputs": [],
   "source": [
    "import math\n",
    "def kClosest(self, points: list[list[int]], k: int) -> list[list[int]]:\n",
    "    dist_heap = []\n",
    "    heapq.heapify(dist_heap)\n",
    "    for i in points:\n",
    "        euclid_dist = math.sqrt(i[0]*i[0]+i[1]*i[1])\n",
    "        heapq.heappush(dist_heap, (euclid_dist, i[0], i[1]))\n",
    "\n",
    "    \n",
    "    result_list = []\n",
    "    for i in range(k):\n",
    "        min_result = heapq.heappop(dist_heap)\n",
    "        result_list.append([min_result[1], min_result[2]])\n",
    "\n",
    "        # if new_result[0] == min_result[0]:\n",
    "        #     result_list.append([new_result[0], new_result[1]])\n",
    "        # else:\n",
    "        #     break\n",
    "    \n",
    "    return result_list"
   ]
  },
  {
   "cell_type": "code",
   "execution_count": null,
   "id": "17ae8e03",
   "metadata": {},
   "outputs": [],
   "source": []
  },
  {
   "cell_type": "markdown",
   "id": "f670033c",
   "metadata": {},
   "source": []
  }
 ],
 "metadata": {
  "kernelspec": {
   "display_name": "Python 3 (ipykernel)",
   "language": "python",
   "name": "python3"
  },
  "language_info": {
   "codemirror_mode": {
    "name": "ipython",
    "version": 3
   },
   "file_extension": ".py",
   "mimetype": "text/x-python",
   "name": "python",
   "nbconvert_exporter": "python",
   "pygments_lexer": "ipython3",
   "version": "3.11.8"
  }
 },
 "nbformat": 4,
 "nbformat_minor": 5
}
